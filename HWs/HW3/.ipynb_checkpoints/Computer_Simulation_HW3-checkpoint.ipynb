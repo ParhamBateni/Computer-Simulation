{
 "cells": [
  {
   "cell_type": "markdown",
   "metadata": {
    "id": "Z8CWp1AKAQzw"
   },
   "source": [
    "#Explanation\n",
    "In this question, you will be implementing several Random Number Generators (RNGs) and testing their effectiveness through a series of statistical tests."
   ]
  },
  {
   "cell_type": "markdown",
   "metadata": {
    "id": "Vx078njwCzQZ"
   },
   "source": [
    "##Theory Question:\n",
    "What is a **Pseudorandom Number Generator(PRNG)**? Compare it to **RNGs**.\n",
    "\n",
    "A pseudorandom number generator (PRNG) is an algorithm that produces a sequence of numbers that appears random but is deterministically generated from a seed value. The generation of each number in the sequence is dependent on the previous value, and thus, the output sequence becomes unpredictable and appears random. Pseudorandom number generators are used in computer simulations where we need to know the pattern of random numbers so we can reproduce them for debugging.\n",
    "\n",
    "On the other hand, True Random Number Generators (RNGs) generate true random numbers based on unpredictable phenomena such as time. These devices do not rely on a deterministic algorithm and therefore produce truly random numbers.\n",
    "\n",
    "While PRNGs are faster and more efficient than true RNGs, they are not suitable for certain applications, such as cryptography, where true randomness is required. Although PRNGs can produce long sequences of seemingly random numbers, if the seed value or the algorithm used to generate the sequence is compromised, the entire sequence becomes predictable, making it vulnerable to attacks. In contrast, true RNGs provide a higher level of security since the numbers generated are truly random and unpredictable."
   ]
  },
  {
   "cell_type": "markdown",
   "metadata": {
    "id": "DNTnCjldAhwW"
   },
   "source": [
    "##Imports"
   ]
  },
  {
   "cell_type": "code",
   "execution_count": 1,
   "metadata": {
    "id": "f1Nz5q4MOoge"
   },
   "outputs": [],
   "source": [
    "import numpy as np\n",
    "import matplotlib.pyplot as plt\n",
    "import scipy.stats as stats\n",
    "import random"
   ]
  },
  {
   "cell_type": "markdown",
   "metadata": {
    "id": "QukowTXPDTNd"
   },
   "source": [
    "#(P)Random-Number Generator Implementation"
   ]
  },
  {
   "cell_type": "markdown",
   "metadata": {
    "id": "9UT5u2s9AmKl"
   },
   "source": [
    "##Linear Congruential Generator (LCG):\n",
    "LCG is a type of RNG that produces a sequence of random numbers based on a linear function. To implement LCG, you will need to follow these steps:\n",
    "\n",
    "*   Set a seed value.\n",
    "*   Choose appropriate values for the multiplier (a), increment (c), and modulus (m).\n",
    "*   Apply the LCG formula to generate a sequence of random numbers."
   ]
  },
  {
   "cell_type": "code",
   "execution_count": 84,
   "metadata": {
    "id": "hrAsMrIEPqbh"
   },
   "outputs": [
    {
     "name": "stdout",
     "output_type": "stream",
     "text": [
      "[0.04656613 0.29714881 0.11260933 0.94961484 0.88805722 0.72150881\n",
      " 0.45354135 0.00377894 0.21042068 0.77298492 0.21854891 0.01591825\n",
      " 0.95300037 0.35671003 0.39524885 0.48750872 0.17379132 0.08589543\n",
      " 0.0195672  0.96193386 0.82151053 0.92236596 0.55159482 0.51510168\n",
      " 0.27878987 0.49794474 0.76089287 0.36710402 0.30040796 0.52403145\n",
      " 0.59450797 0.64171321 0.51254083 0.8089246  0.30892195 0.20292829\n",
      " 0.97268473 0.00682992 0.29251325 0.62536562 0.37997805 0.44164287\n",
      " 0.89781807 0.2924414  0.75014906 0.46437228 0.39231109 0.93600452\n",
      " 0.28501994 0.78798582]\n"
     ]
    }
   ],
   "source": [
    "def lcg(seed, a, c, m, n, r_num=True):\n",
    "    numbers = np.zeros(n)\n",
    "    numbers[0]=seed % m\n",
    "    for i in range(1,len(numbers)):\n",
    "        numbers[i]=(numbers[i-1]*a+c)%m\n",
    "    if r_num: return numbers/m\n",
    "    else: return numbers\n",
    "# We set the parameters according to Ecuyer [1988] suggestion for 32-bit computers.\n",
    "r_numbers=lcg(seed=10e7,a=40_014,c=61,m=2_147_483_563,n=50)\n",
    "print(r_numbers)"
   ]
  },
  {
   "cell_type": "markdown",
   "metadata": {
    "id": "3r4p_hP9BOu-"
   },
   "source": [
    "### Combined LCG:\n",
    "\n",
    "Combined LCG is an improved version of LCG that combines the outputs of two or more LCGs to produce a better sequence of random numbers. To implement CLCG, you will need to follow this algorithm:\n",
    "\n",
    "*   Initialize two or more LCGs with different seed values.\n",
    "*   Generate random numbers using each LCG.\n",
    "*   Combine the random numbers using a mathematical function.\n",
    "    \n",
    "    \n",
    "    "
   ]
  },
  {
   "cell_type": "code",
   "execution_count": 88,
   "metadata": {
    "id": "ML5UAT_WPsg6"
   },
   "outputs": [
    {
     "name": "stdout",
     "output_type": "stream",
     "text": [
      "[0.58090482 0.83267463 0.21209455 0.49653067 0.66975082 0.52522848\n",
      " 0.0206083  0.75241221 0.92970374 0.1775852  0.20670889 0.02219936\n",
      " 0.92009572 0.49371757 0.35392056 0.32244227 0.61858736 0.80466054\n",
      " 0.7069583  0.45806565 0.77973122 0.42476443 0.17996516 0.7535259\n",
      " 0.75142652 0.29454652 0.04457621 0.34168433 0.31613708 0.98952678\n",
      " 0.62301413 0.48980413 0.20963064 0.99062193 0.9888331  0.92392937\n",
      " 0.92654104 0.20157956 0.05080323 0.16109532 0.69808159 0.6389815\n",
      " 0.22745018 0.03896306 0.7758672  0.62265384 0.55304536 0.84822362\n",
      " 0.92242998 0.07598185]\n"
     ]
    }
   ],
   "source": [
    "def combined_lcg(seed1, seed2, a1, c1, m1, a2, c2, m2, n,r_num=True):\n",
    "    #TODO\n",
    "    lcg1 = lcg(seed1,a1,c1,m1,n,r_num=False)\n",
    "    lcg2 = lcg(seed2,a2,c2,m2,n,r_num=False)\n",
    "    numbers= (lcg1 - lcg2) %(m1-1)\n",
    "    if r_num:\n",
    "        return np.array([n/m1 if n>0 else (m1-1)/m1 for n in numbers])\n",
    "    else: return numbers\n",
    "# We set the parameters according to Ecuyer [1988] suggestion for 32-bit computers.\n",
    "r_numbers=combined_lcg(seed1=10e7,seed2=10e8,a1=40_014,c1=61,m1=2_147_483_563,a2=20_692,c2=37,m2=2_147_483_399,n=50)\n",
    "print(r_numbers)"
   ]
  },
  {
   "cell_type": "markdown",
   "metadata": {
    "id": "yGI0XUyqBwHa"
   },
   "source": [
    "##Truncated LCG:\n",
    "Truncated LCG is another variation of LCG that generates better random numbers by truncating the least significant bits of each iteration. To implement Truncated LCG, you will need to:\n",
    "\n",
    "*   Initialize LCG with an appropriate seed value.\n",
    "*   Choose appropriate values for the multiplier (a), increment (c), and modulus (m).\n",
    "*   Set a lower bound and an upper bound for the number of bits to be stored in each iteration.\n",
    "*   Apply the Truncated LCG formula to generate a sequence of random numbers.\n",
    "\n",
    "\n",
    "\n",
    "\n"
   ]
  },
  {
   "cell_type": "code",
   "execution_count": 112,
   "metadata": {
    "id": "P8-ZIXn9PzDH"
   },
   "outputs": [
    {
     "name": "stdout",
     "output_type": "stream",
     "text": [
      "[0.56074524 0.62388611 0.81109619 0.74110413 0.64997864 0.85264587\n",
      " 0.73925781 0.94152832 0.07304382 0.58813477 0.60057068 0.74467468\n",
      " 0.54211426 0.46960449 0.4178009  0.92460632 0.91381836 0.07362366\n",
      " 0.04046631 0.45349121 0.00540161 0.6661377  0.9282074  0.96162415\n",
      " 0.79078674 0.30851746 0.82901001 0.23547363 0.21636963 0.55226135\n",
      " 0.22860718 0.68357849 0.67750549 0.67211914 0.59712219 0.0582428\n",
      " 0.9876709  0.06710815 0.74873352 0.19500732 0.48455811 0.7313385\n",
      " 0.91995239 0.3052063  0.03437805 0.45307922 0.93717957 0.72080994\n",
      " 0.79489136 0.52952576]\n"
     ]
    }
   ],
   "source": [
    "def tlcg(seed, a, c, m, l=5, h=20, size=100,r_num=True):\n",
    "    \n",
    "    # Initialize variables\n",
    "    x = int(seed % m)  # current value of the generator\n",
    "    result = []   # list to store generated numbers\n",
    "    \n",
    "    # Generate pseudo-random numbers using TLCG algorithm\n",
    "    for i in range(size):\n",
    "        x = (a * x + c) % m  # generate next number\n",
    "        \n",
    "        # Truncate bits and store only bits between l and h\n",
    "        bits = bin(x)[2:][-h:-l+1]\n",
    "        \n",
    "        # Normalize the truncated number and append to result list\n",
    "        if r_num:\n",
    "            result.append(int(bits, 2) / (2**(h-l+1)))\n",
    "        else:\n",
    "            result.append(int(bits,2))\n",
    "    result=np.array(result)\n",
    "    return result\n",
    "    \n",
    "r_numbers=tlcg(seed=10e7,a=40_014,c=61,m=2_147_483_563,size=50)\n",
    "print(r_numbers)"
   ]
  },
  {
   "cell_type": "markdown",
   "metadata": {
    "id": "Feh9TdjeCi6H"
   },
   "source": [
    "##Python Random:\n",
    "Python has a built-in random function that uses the **Mersenne Twister** algorithm to generate random numbers. You can simply use this function to generate a sequence of random numbers."
   ]
  },
  {
   "cell_type": "code",
   "execution_count": 96,
   "metadata": {
    "id": "47LHJTBzCti_"
   },
   "outputs": [
    {
     "data": {
      "text/plain": [
       "array([0.05006017, 0.81283889, 0.98636435, 0.05487972, 0.08430297,\n",
       "       0.88490387, 0.29622953, 0.7606345 , 0.1350587 , 0.70180639,\n",
       "       0.81794992, 0.99442078, 0.35754149, 0.09762813, 0.92168782,\n",
       "       0.81089623, 0.22354395, 0.92920357, 0.05016668, 0.92920965,\n",
       "       0.73088199, 0.07464171, 0.94332016, 0.65832443, 0.87943894,\n",
       "       0.04141808, 0.29914745, 0.51145602, 0.27672972, 0.42224719,\n",
       "       0.66413254, 0.8374345 , 0.22012521, 0.70610597, 0.77763808,\n",
       "       0.85741666, 0.62475599, 0.87778185, 0.67124122, 0.14349593,\n",
       "       0.200892  , 0.06950991, 0.17955109, 0.16813256, 0.28174947,\n",
       "       0.84000932, 0.77104719, 0.51617658, 0.92858252, 0.39083926])"
      ]
     },
     "execution_count": 96,
     "metadata": {},
     "output_type": "execute_result"
    }
   ],
   "source": [
    "python_random_number_generator= lambda n:np.array([random.random() for i in range(n)])\n",
    "python_random_number_generator(50)"
   ]
  },
  {
   "cell_type": "code",
   "execution_count": 113,
   "metadata": {
    "id": "ps8D54gZFXyH"
   },
   "outputs": [],
   "source": [
    "n = 10000\n",
    "seed1, seed2 = 123, 456\n",
    "a1, c1, m1 = 16807, 0, 2**31 - 1\n",
    "a2, c2, m2 = 48271, 0, 2**31 - 1\n",
    "p = 1000\n",
    "\n",
    "lcg_numbers = lcg(seed1, a1, c1, m1, n)\n",
    "truncated_lcg_numbers = tlcg(seed1, a1, c1, m1, size=n)\n",
    "combined_lcg_numbers = combined_lcg(seed1, seed2, a1, c1, m1, a2, c2, m2, n)\n",
    "#TODO\n",
    "python_random_numbers = python_random_number_generator(n)"
   ]
  },
  {
   "cell_type": "markdown",
   "metadata": {
    "id": "3L-N2GHKDo1S"
   },
   "source": [
    "#Test Methods Implementation\n",
    "After implementing the RNGs, you need to test their effectiveness through a series of statistical tests:"
   ]
  },
  {
   "cell_type": "markdown",
   "metadata": {
    "id": "Wwn822OOD96-"
   },
   "source": [
    "##Kolmogorov-Smirnov test:\n",
    "This test checks whether the distribution of the generated random numbers follows a particular distribution."
   ]
  },
  {
   "cell_type": "code",
   "execution_count": 104,
   "metadata": {
    "id": "SpRZrwqSD9Gt"
   },
   "outputs": [],
   "source": [
    "def ks_test(numbers):\n",
    "    #TODO\n",
    "    #Hint: You may use: stats.kstest()\n",
    "    return stats.kstest(numbers,'uniform')"
   ]
  },
  {
   "cell_type": "markdown",
   "metadata": {
    "id": "PpxqN29dElm5"
   },
   "source": [
    "##Chi-Square test: \n",
    "This test checks whether the distribution of the generated random numbers is statistically independent."
   ]
  },
  {
   "cell_type": "code",
   "execution_count": 105,
   "metadata": {
    "id": "HmC_rUsfEbtj"
   },
   "outputs": [],
   "source": [
    "def chi_square_test(numbers, num_bins):\n",
    "    freq, _, _ = plt.hist(numbers, bins=num_bins)\n",
    "    plt.clf()\n",
    "    expected_freq = np.full(num_bins, len(numbers) / num_bins)\n",
    "    return stats.chisquare(freq, expected_freq)"
   ]
  },
  {
   "cell_type": "markdown",
   "metadata": {
    "id": "lQ3G5D0JEwxL"
   },
   "source": [
    "##Auto-correlation test:\n",
    "This test checks whether there is a correlation between generated numbers and their lagged versions."
   ]
  },
  {
   "cell_type": "code",
   "execution_count": 106,
   "metadata": {
    "id": "kAIhJcNoE0Q4"
   },
   "outputs": [],
   "source": [
    "def autocorrelation_test(numbers, lag):\n",
    "    x = numbers[:-lag]\n",
    "    y = numbers[lag:]\n",
    "    return np.corrcoef(x, y)[0, 1]"
   ]
  },
  {
   "cell_type": "markdown",
   "metadata": {
    "id": "X-qkpp5UFB2X"
   },
   "source": [
    "You can introduce another test, such as the Runs test, to test for randomness and implement it."
   ]
  },
  {
   "cell_type": "code",
   "execution_count": 107,
   "metadata": {
    "id": "A5SCoDbcFEPa"
   },
   "outputs": [],
   "source": [
    "num_bins = 100\n",
    "lag = 1"
   ]
  },
  {
   "cell_type": "markdown",
   "metadata": {
    "id": "diQ6nYkCF2Ha"
   },
   "source": [
    "#Show Results"
   ]
  },
  {
   "cell_type": "code",
   "execution_count": 114,
   "metadata": {
    "id": "z85cUBuzFMei"
   },
   "outputs": [
    {
     "name": "stdout",
     "output_type": "stream",
     "text": [
      "LCG:\n",
      "  Kolmogorov-Smirnov test: p-value = 0.159037\n",
      "  Chi-square test: p-value = 0.383123\n",
      "  Autocorrelation test: 0.006946\n",
      "\n",
      "Truncated LCG:\n",
      "  Kolmogorov-Smirnov test: p-value = 0.880156\n",
      "  Chi-square test: p-value = 0.830401\n",
      "  Autocorrelation test: -0.002832\n",
      "\n",
      "Combined LCG:\n",
      "  Kolmogorov-Smirnov test: p-value = 0.407960\n",
      "  Chi-square test: p-value = 0.493576\n",
      "  Autocorrelation test: -0.003450\n",
      "\n",
      "Python Random:\n",
      "  Kolmogorov-Smirnov test: p-value = 0.435730\n",
      "  Chi-square test: p-value = 0.973444\n",
      "  Autocorrelation test: 0.003670\n",
      "\n"
     ]
    },
    {
     "data": {
      "text/plain": [
       "<Figure size 640x480 with 0 Axes>"
      ]
     },
     "metadata": {},
     "output_type": "display_data"
    }
   ],
   "source": [
    "def print_results(title, ks, chi, auto):\n",
    "    print(f\"{title}:\")\n",
    "    print(f\"  Kolmogorov-Smirnov test: p-value = {ks.pvalue:.6f}\")\n",
    "    print(f\"  Chi-square test: p-value = {chi.pvalue:.6f}\")\n",
    "    print(f\"  Autocorrelation test: {auto:.6f}\")\n",
    "    print()\n",
    "\n",
    "print_results(\"LCG\", ks_test(lcg_numbers), chi_square_test(lcg_numbers, num_bins), autocorrelation_test(lcg_numbers, lag))\n",
    "print_results(\"Truncated LCG\", ks_test(truncated_lcg_numbers), chi_square_test(truncated_lcg_numbers, num_bins), autocorrelation_test(truncated_lcg_numbers, lag))\n",
    "print_results(\"Combined LCG\", ks_test(combined_lcg_numbers), chi_square_test(combined_lcg_numbers, num_bins), autocorrelation_test(combined_lcg_numbers, lag))\n",
    "#TODO\n",
    "print_results(\"Python Random\", ks_test(python_random_numbers),chi_square_test(python_random_numbers,num_bins),autocorrelation_test(python_random_numbers,lag))"
   ]
  },
  {
   "cell_type": "code",
   "execution_count": 115,
   "metadata": {
    "id": "oXO9r_M4HHMC"
   },
   "outputs": [
    {
     "data": {
      "image/png": "[encoded data removed]",
      "text/plain": [
       "<Figure size 1500x500 with 4 Axes>"
      ]
     },
     "metadata": {},
     "output_type": "display_data"
    }
   ],
   "source": [
    "plt.figure(figsize=(15, 5))\n",
    "\n",
    "plt.subplot(141)\n",
    "plt.hist(lcg_numbers, bins=num_bins, alpha=0.75, color='blue', edgecolor='black')\n",
    "plt.title(\"LCG Histogram\")\n",
    "\n",
    "plt.subplot(142)\n",
    "plt.hist(truncated_lcg_numbers, bins=num_bins, alpha=0.75, color='blue', edgecolor='black')\n",
    "plt.title(\"Truncated LCG Histogram\")\n",
    "\n",
    "plt.subplot(143)\n",
    "plt.hist(combined_lcg_numbers, bins=num_bins, alpha=0.75, color='blue', edgecolor='black')\n",
    "plt.title(\"Combined LCG Histogram\")\n",
    "\n",
    "plt.subplot(144)\n",
    "plt.hist(python_random_numbers, bins=num_bins, alpha=0.75, color='blue', edgecolor='black')\n",
    "plt.title(\"Python Random Histogram\")\n",
    "\n",
    "plt.show()"
   ]
  },
  {
   "cell_type": "code",
   "execution_count": null,
   "metadata": {},
   "outputs": [],
   "source": []
  }
 ],
 "metadata": {
  "colab": {
   "provenance": []
  },
  "kernelspec": {
   "display_name": "Python 3 (ipykernel)",
   "language": "python",
   "name": "python3"
  },
  "language_info": {
   "codemirror_mode": {
    "name": "ipython",
    "version": 3
   },
   "file_extension": ".py",
   "mimetype": "text/x-python",
   "name": "python",
   "nbconvert_exporter": "python",
   "pygments_lexer": "ipython3",
   "version": "3.11.1"
  }
 },
 "nbformat": 4,
 "nbformat_minor": 1
}
